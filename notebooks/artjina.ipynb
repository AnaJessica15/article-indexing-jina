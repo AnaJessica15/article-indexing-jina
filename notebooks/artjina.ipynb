{
 "cells": [
  {
   "cell_type": "code",
   "execution_count": 1,
   "metadata": {},
   "outputs": [
    {
     "name": "stdout",
     "output_type": "stream",
     "text": [
      "Processing /home/ashwinkumar/.cache/pip/wheels/bc/2e/e6/2ae6c56fff706eb1c20c20c0b558d42904ad004ff7b2530ffd/jina-2.2.5-py3-none-any.whl\n",
      "Requirement already satisfied: pydantic in /home/ashwinkumar/.local/lib/python3.8/site-packages (from jina) (1.8.2)\n",
      "Requirement already satisfied: lz4<3.1.2 in /home/ashwinkumar/.local/lib/python3.8/site-packages (from jina) (3.1.1)\n",
      "Requirement already satisfied: uvloop in /home/ashwinkumar/.local/lib/python3.8/site-packages (from jina) (0.16.0)\n",
      "Requirement already satisfied: aiostream in /home/ashwinkumar/.local/lib/python3.8/site-packages (from jina) (0.4.3)\n",
      "Requirement already satisfied: fastapi in /home/ashwinkumar/.local/lib/python3.8/site-packages (from jina) (0.68.2)\n",
      "Requirement already satisfied: uvicorn[standard]>=0.14.0 in /home/ashwinkumar/.local/lib/python3.8/site-packages (from jina) (0.15.0)\n",
      "Requirement already satisfied: pathspec in /home/ashwinkumar/.local/lib/python3.8/site-packages (from jina) (0.9.0)\n",
      "Requirement already satisfied: pyyaml>=5.3.1 in /usr/lib/python3/dist-packages (from jina) (5.3.1)\n",
      "Requirement already satisfied: numpy in /home/ashwinkumar/.local/lib/python3.8/site-packages (from jina) (1.21.3)\n",
      "Requirement already satisfied: filelock in /home/ashwinkumar/.local/lib/python3.8/site-packages (from jina) (3.3.1)\n",
      "Requirement already satisfied: websockets in /home/ashwinkumar/.local/lib/python3.8/site-packages (from jina) (10.0)\n",
      "Requirement already satisfied: pyzmq>=17.1.0 in /usr/lib/python3/dist-packages (from jina) (18.1.1)\n",
      "Requirement already satisfied: requests in /usr/lib/python3/dist-packages (from jina) (2.22.0)\n",
      "Requirement already satisfied: kubernetes>=18.20.0 in /home/ashwinkumar/.local/lib/python3.8/site-packages (from jina) (18.20.0)\n",
      "Requirement already satisfied: aiofiles in /home/ashwinkumar/.local/lib/python3.8/site-packages (from jina) (0.7.0)\n",
      "Requirement already satisfied: python-multipart in /home/ashwinkumar/.local/lib/python3.8/site-packages (from jina) (0.0.5)\n",
      "Requirement already satisfied: docker in /home/ashwinkumar/.local/lib/python3.8/site-packages (from jina) (5.0.3)\n",
      "Requirement already satisfied: grpcio>=1.33.1 in /home/ashwinkumar/.local/lib/python3.8/site-packages (from jina) (1.41.0)\n",
      "Requirement already satisfied: aiohttp in /home/ashwinkumar/.local/lib/python3.8/site-packages (from jina) (3.7.4.post0)\n",
      "Requirement already satisfied: tornado>=5.1.0 in /usr/lib/python3/dist-packages (from jina) (5.1.1)\n",
      "Requirement already satisfied: rich in /home/ashwinkumar/.local/lib/python3.8/site-packages (from jina) (10.12.0)\n",
      "Requirement already satisfied: protobuf>=3.13.0 in /home/ashwinkumar/.local/lib/python3.8/site-packages (from jina) (3.19.0)\n",
      "Requirement already satisfied: cryptography in /usr/lib/python3/dist-packages (from jina) (2.8)\n",
      "Requirement already satisfied: typing-extensions>=3.7.4.3 in /home/ashwinkumar/.local/lib/python3.8/site-packages (from pydantic->jina) (3.10.0.2)\n",
      "Requirement already satisfied: starlette==0.14.2 in /home/ashwinkumar/.local/lib/python3.8/site-packages (from fastapi->jina) (0.14.2)\n",
      "Requirement already satisfied: click>=7.0 in /usr/lib/python3/dist-packages (from uvicorn[standard]>=0.14.0->jina) (7.0)\n",
      "Requirement already satisfied: h11>=0.8 in /home/ashwinkumar/.local/lib/python3.8/site-packages (from uvicorn[standard]>=0.14.0->jina) (0.12.0)\n",
      "Requirement already satisfied: asgiref>=3.4.0 in /home/ashwinkumar/.local/lib/python3.8/site-packages (from uvicorn[standard]>=0.14.0->jina) (3.4.1)\n",
      "Requirement already satisfied: httptools==0.2.*; extra == \"standard\" in /home/ashwinkumar/.local/lib/python3.8/site-packages (from uvicorn[standard]>=0.14.0->jina) (0.2.0)\n",
      "Requirement already satisfied: python-dotenv>=0.13; extra == \"standard\" in /home/ashwinkumar/.local/lib/python3.8/site-packages (from uvicorn[standard]>=0.14.0->jina) (0.19.1)\n",
      "Requirement already satisfied: watchgod>=0.6; extra == \"standard\" in /home/ashwinkumar/.local/lib/python3.8/site-packages (from uvicorn[standard]>=0.14.0->jina) (0.7)\n",
      "Requirement already satisfied: six>=1.9.0 in /usr/lib/python3/dist-packages (from kubernetes>=18.20.0->jina) (1.14.0)\n",
      "Requirement already satisfied: websocket-client!=0.40.0,!=0.41.*,!=0.42.*,>=0.32.0 in /home/ashwinkumar/.local/lib/python3.8/site-packages (from kubernetes>=18.20.0->jina) (1.2.1)\n",
      "Requirement already satisfied: requests-oauthlib in /home/ashwinkumar/.local/lib/python3.8/site-packages (from kubernetes>=18.20.0->jina) (1.3.0)\n",
      "Requirement already satisfied: setuptools>=21.0.0 in /usr/lib/python3/dist-packages (from kubernetes>=18.20.0->jina) (45.2.0)\n",
      "Requirement already satisfied: google-auth>=1.0.1 in /home/ashwinkumar/.local/lib/python3.8/site-packages (from kubernetes>=18.20.0->jina) (2.3.1)\n",
      "Requirement already satisfied: certifi>=14.05.14 in /usr/lib/python3/dist-packages (from kubernetes>=18.20.0->jina) (2019.11.28)\n",
      "Requirement already satisfied: python-dateutil>=2.5.3 in /usr/lib/python3/dist-packages (from kubernetes>=18.20.0->jina) (2.7.3)\n",
      "Requirement already satisfied: urllib3>=1.24.2 in /usr/lib/python3/dist-packages (from kubernetes>=18.20.0->jina) (1.25.8)\n",
      "Requirement already satisfied: multidict<7.0,>=4.5 in /home/ashwinkumar/.local/lib/python3.8/site-packages (from aiohttp->jina) (5.2.0)\n",
      "Requirement already satisfied: async-timeout<4.0,>=3.0 in /home/ashwinkumar/.local/lib/python3.8/site-packages (from aiohttp->jina) (3.0.1)\n",
      "Requirement already satisfied: chardet<5.0,>=2.0 in /usr/lib/python3/dist-packages (from aiohttp->jina) (3.0.4)\n",
      "Requirement already satisfied: yarl<2.0,>=1.0 in /home/ashwinkumar/.local/lib/python3.8/site-packages (from aiohttp->jina) (1.7.0)\n",
      "Requirement already satisfied: attrs>=17.3.0 in /usr/lib/python3/dist-packages (from aiohttp->jina) (19.3.0)\n",
      "Requirement already satisfied: pygments<3.0.0,>=2.6.0 in /home/ashwinkumar/.local/lib/python3.8/site-packages (from rich->jina) (2.10.0)\n",
      "Requirement already satisfied: commonmark<0.10.0,>=0.9.0 in /home/ashwinkumar/.local/lib/python3.8/site-packages (from rich->jina) (0.9.1)\n",
      "Requirement already satisfied: colorama<0.5.0,>=0.4.0 in /usr/lib/python3/dist-packages (from rich->jina) (0.4.3)\n",
      "Requirement already satisfied: oauthlib>=3.0.0 in /usr/lib/python3/dist-packages (from requests-oauthlib->kubernetes>=18.20.0->jina) (3.1.0)\n",
      "Requirement already satisfied: cachetools<5.0,>=2.0.0 in /home/ashwinkumar/.local/lib/python3.8/site-packages (from google-auth>=1.0.1->kubernetes>=18.20.0->jina) (4.2.4)\n",
      "Requirement already satisfied: pyasn1-modules>=0.2.1 in /home/ashwinkumar/.local/lib/python3.8/site-packages (from google-auth>=1.0.1->kubernetes>=18.20.0->jina) (0.2.8)\n",
      "Requirement already satisfied: rsa<5,>=3.1.4; python_version >= \"3.6\" in /home/ashwinkumar/.local/lib/python3.8/site-packages (from google-auth>=1.0.1->kubernetes>=18.20.0->jina) (4.7.2)\n",
      "Requirement already satisfied: idna>=2.0 in /usr/lib/python3/dist-packages (from yarl<2.0,>=1.0->aiohttp->jina) (2.8)\n",
      "Requirement already satisfied: pyasn1<0.5.0,>=0.4.6 in /home/ashwinkumar/.local/lib/python3.8/site-packages (from pyasn1-modules>=0.2.1->google-auth>=1.0.1->kubernetes>=18.20.0->jina) (0.4.8)\n",
      "Installing collected packages: jina\n",
      "Successfully installed jina-2.2.5\n"
     ]
    }
   ],
   "source": [
    "!pip install jina"
   ]
  },
  {
   "cell_type": "code",
   "execution_count": 2,
   "metadata": {},
   "outputs": [
    {
     "name": "stdout",
     "output_type": "stream",
     "text": [
      "Requirement already up-to-date: jina in /home/ashwinkumar/.local/lib/python3.8/site-packages (2.2.5)\n",
      "Requirement already satisfied, skipping upgrade: websockets in /home/ashwinkumar/.local/lib/python3.8/site-packages (from jina) (10.0)\n",
      "Requirement already satisfied, skipping upgrade: kubernetes>=18.20.0 in /home/ashwinkumar/.local/lib/python3.8/site-packages (from jina) (18.20.0)\n",
      "Requirement already satisfied, skipping upgrade: aiofiles in /home/ashwinkumar/.local/lib/python3.8/site-packages (from jina) (0.7.0)\n",
      "Requirement already satisfied, skipping upgrade: docker in /home/ashwinkumar/.local/lib/python3.8/site-packages (from jina) (5.0.3)\n",
      "Requirement already satisfied, skipping upgrade: pyzmq>=17.1.0 in /usr/lib/python3/dist-packages (from jina) (18.1.1)\n",
      "Requirement already satisfied, skipping upgrade: python-multipart in /home/ashwinkumar/.local/lib/python3.8/site-packages (from jina) (0.0.5)\n",
      "Requirement already satisfied, skipping upgrade: filelock in /home/ashwinkumar/.local/lib/python3.8/site-packages (from jina) (3.3.1)\n",
      "Requirement already satisfied, skipping upgrade: uvloop in /home/ashwinkumar/.local/lib/python3.8/site-packages (from jina) (0.16.0)\n",
      "Requirement already satisfied, skipping upgrade: lz4<3.1.2 in /home/ashwinkumar/.local/lib/python3.8/site-packages (from jina) (3.1.1)\n",
      "Requirement already satisfied, skipping upgrade: tornado>=5.1.0 in /usr/lib/python3/dist-packages (from jina) (5.1.1)\n",
      "Requirement already satisfied, skipping upgrade: cryptography in /usr/lib/python3/dist-packages (from jina) (2.8)\n",
      "Requirement already satisfied, skipping upgrade: protobuf>=3.13.0 in /home/ashwinkumar/.local/lib/python3.8/site-packages (from jina) (3.19.0)\n",
      "Requirement already satisfied, skipping upgrade: aiohttp in /home/ashwinkumar/.local/lib/python3.8/site-packages (from jina) (3.7.4.post0)\n",
      "Requirement already satisfied, skipping upgrade: requests in /usr/lib/python3/dist-packages (from jina) (2.22.0)\n",
      "Requirement already satisfied, skipping upgrade: uvicorn[standard]>=0.14.0 in /home/ashwinkumar/.local/lib/python3.8/site-packages (from jina) (0.15.0)\n",
      "Requirement already satisfied, skipping upgrade: grpcio>=1.33.1 in /home/ashwinkumar/.local/lib/python3.8/site-packages (from jina) (1.41.0)\n",
      "Requirement already satisfied, skipping upgrade: pyyaml>=5.3.1 in /usr/lib/python3/dist-packages (from jina) (5.3.1)\n",
      "Requirement already satisfied, skipping upgrade: fastapi in /home/ashwinkumar/.local/lib/python3.8/site-packages (from jina) (0.68.2)\n",
      "Requirement already satisfied, skipping upgrade: aiostream in /home/ashwinkumar/.local/lib/python3.8/site-packages (from jina) (0.4.3)\n",
      "Requirement already satisfied, skipping upgrade: pathspec in /home/ashwinkumar/.local/lib/python3.8/site-packages (from jina) (0.9.0)\n",
      "Requirement already satisfied, skipping upgrade: numpy in /home/ashwinkumar/.local/lib/python3.8/site-packages (from jina) (1.21.3)\n",
      "Requirement already satisfied, skipping upgrade: rich in /home/ashwinkumar/.local/lib/python3.8/site-packages (from jina) (10.12.0)\n",
      "Requirement already satisfied, skipping upgrade: pydantic in /home/ashwinkumar/.local/lib/python3.8/site-packages (from jina) (1.8.2)\n",
      "Requirement already satisfied, skipping upgrade: python-dateutil>=2.5.3 in /usr/lib/python3/dist-packages (from kubernetes>=18.20.0->jina) (2.7.3)\n",
      "Requirement already satisfied, skipping upgrade: certifi>=14.05.14 in /usr/lib/python3/dist-packages (from kubernetes>=18.20.0->jina) (2019.11.28)\n",
      "Requirement already satisfied, skipping upgrade: setuptools>=21.0.0 in /usr/lib/python3/dist-packages (from kubernetes>=18.20.0->jina) (45.2.0)\n",
      "Requirement already satisfied, skipping upgrade: six>=1.9.0 in /usr/lib/python3/dist-packages (from kubernetes>=18.20.0->jina) (1.14.0)\n",
      "Requirement already satisfied, skipping upgrade: google-auth>=1.0.1 in /home/ashwinkumar/.local/lib/python3.8/site-packages (from kubernetes>=18.20.0->jina) (2.3.1)\n",
      "Requirement already satisfied, skipping upgrade: urllib3>=1.24.2 in /usr/lib/python3/dist-packages (from kubernetes>=18.20.0->jina) (1.25.8)\n",
      "Requirement already satisfied, skipping upgrade: websocket-client!=0.40.0,!=0.41.*,!=0.42.*,>=0.32.0 in /home/ashwinkumar/.local/lib/python3.8/site-packages (from kubernetes>=18.20.0->jina) (1.2.1)\n",
      "Requirement already satisfied, skipping upgrade: requests-oauthlib in /home/ashwinkumar/.local/lib/python3.8/site-packages (from kubernetes>=18.20.0->jina) (1.3.0)\n",
      "Requirement already satisfied, skipping upgrade: chardet<5.0,>=2.0 in /usr/lib/python3/dist-packages (from aiohttp->jina) (3.0.4)\n",
      "Requirement already satisfied, skipping upgrade: attrs>=17.3.0 in /usr/lib/python3/dist-packages (from aiohttp->jina) (19.3.0)\n",
      "Requirement already satisfied, skipping upgrade: yarl<2.0,>=1.0 in /home/ashwinkumar/.local/lib/python3.8/site-packages (from aiohttp->jina) (1.7.0)\n",
      "Requirement already satisfied, skipping upgrade: multidict<7.0,>=4.5 in /home/ashwinkumar/.local/lib/python3.8/site-packages (from aiohttp->jina) (5.2.0)\n",
      "Requirement already satisfied, skipping upgrade: async-timeout<4.0,>=3.0 in /home/ashwinkumar/.local/lib/python3.8/site-packages (from aiohttp->jina) (3.0.1)\n",
      "Requirement already satisfied, skipping upgrade: typing-extensions>=3.6.5 in /home/ashwinkumar/.local/lib/python3.8/site-packages (from aiohttp->jina) (3.10.0.2)\n",
      "Requirement already satisfied, skipping upgrade: h11>=0.8 in /home/ashwinkumar/.local/lib/python3.8/site-packages (from uvicorn[standard]>=0.14.0->jina) (0.12.0)\n",
      "Requirement already satisfied, skipping upgrade: asgiref>=3.4.0 in /home/ashwinkumar/.local/lib/python3.8/site-packages (from uvicorn[standard]>=0.14.0->jina) (3.4.1)\n",
      "Requirement already satisfied, skipping upgrade: click>=7.0 in /usr/lib/python3/dist-packages (from uvicorn[standard]>=0.14.0->jina) (7.0)\n",
      "Requirement already satisfied, skipping upgrade: python-dotenv>=0.13; extra == \"standard\" in /home/ashwinkumar/.local/lib/python3.8/site-packages (from uvicorn[standard]>=0.14.0->jina) (0.19.1)\n",
      "Requirement already satisfied, skipping upgrade: httptools==0.2.*; extra == \"standard\" in /home/ashwinkumar/.local/lib/python3.8/site-packages (from uvicorn[standard]>=0.14.0->jina) (0.2.0)\n",
      "Requirement already satisfied, skipping upgrade: watchgod>=0.6; extra == \"standard\" in /home/ashwinkumar/.local/lib/python3.8/site-packages (from uvicorn[standard]>=0.14.0->jina) (0.7)\n",
      "Requirement already satisfied, skipping upgrade: starlette==0.14.2 in /home/ashwinkumar/.local/lib/python3.8/site-packages (from fastapi->jina) (0.14.2)\n",
      "Requirement already satisfied, skipping upgrade: colorama<0.5.0,>=0.4.0 in /usr/lib/python3/dist-packages (from rich->jina) (0.4.3)\n",
      "Requirement already satisfied, skipping upgrade: commonmark<0.10.0,>=0.9.0 in /home/ashwinkumar/.local/lib/python3.8/site-packages (from rich->jina) (0.9.1)\n",
      "Requirement already satisfied, skipping upgrade: pygments<3.0.0,>=2.6.0 in /home/ashwinkumar/.local/lib/python3.8/site-packages (from rich->jina) (2.10.0)\n",
      "Requirement already satisfied, skipping upgrade: pyasn1-modules>=0.2.1 in /home/ashwinkumar/.local/lib/python3.8/site-packages (from google-auth>=1.0.1->kubernetes>=18.20.0->jina) (0.2.8)\n",
      "Requirement already satisfied, skipping upgrade: cachetools<5.0,>=2.0.0 in /home/ashwinkumar/.local/lib/python3.8/site-packages (from google-auth>=1.0.1->kubernetes>=18.20.0->jina) (4.2.4)\n",
      "Requirement already satisfied, skipping upgrade: rsa<5,>=3.1.4; python_version >= \"3.6\" in /home/ashwinkumar/.local/lib/python3.8/site-packages (from google-auth>=1.0.1->kubernetes>=18.20.0->jina) (4.7.2)\n",
      "Requirement already satisfied, skipping upgrade: oauthlib>=3.0.0 in /usr/lib/python3/dist-packages (from requests-oauthlib->kubernetes>=18.20.0->jina) (3.1.0)\n",
      "Requirement already satisfied, skipping upgrade: idna>=2.0 in /usr/lib/python3/dist-packages (from yarl<2.0,>=1.0->aiohttp->jina) (2.8)\n",
      "Requirement already satisfied, skipping upgrade: pyasn1<0.5.0,>=0.4.6 in /home/ashwinkumar/.local/lib/python3.8/site-packages (from pyasn1-modules>=0.2.1->google-auth>=1.0.1->kubernetes>=18.20.0->jina) (0.4.8)\n"
     ]
    }
   ],
   "source": [
    "!pip install -U jina"
   ]
  },
  {
   "cell_type": "code",
   "execution_count": 4,
   "metadata": {},
   "outputs": [],
   "source": [
    "from jina import Flow, Executor, requests, Document, DocumentArray\n",
    "import pandas as pd\n",
    "import numpy as np"
   ]
  },
  {
   "cell_type": "code",
   "execution_count": 25,
   "metadata": {},
   "outputs": [
    {
     "data": {
      "text/html": [
       "<div>\n",
       "<style scoped>\n",
       "    .dataframe tbody tr th:only-of-type {\n",
       "        vertical-align: middle;\n",
       "    }\n",
       "\n",
       "    .dataframe tbody tr th {\n",
       "        vertical-align: top;\n",
       "    }\n",
       "\n",
       "    .dataframe thead th {\n",
       "        text-align: right;\n",
       "    }\n",
       "</style>\n",
       "<table border=\"1\" class=\"dataframe\">\n",
       "  <thead>\n",
       "    <tr style=\"text-align: right;\">\n",
       "      <th></th>\n",
       "      <th>article_headline</th>\n",
       "      <th>article_link</th>\n",
       "    </tr>\n",
       "  </thead>\n",
       "  <tbody>\n",
       "    <tr>\n",
       "      <th>0</th>\n",
       "      <td>Build an Automatic Abstractive Text Summarizer...</td>\n",
       "      <td>https://medium.com/codex/build-an-automatic-ab...</td>\n",
       "    </tr>\n",
       "    <tr>\n",
       "      <th>1</th>\n",
       "      <td>creating a website to host your python web app...</td>\n",
       "      <td>https://medium.com/@marcosan93/creating-a-webs...</td>\n",
       "    </tr>\n",
       "    <tr>\n",
       "      <th>2</th>\n",
       "      <td>system design choosing between aws lambda and ...</td>\n",
       "      <td>https://iamkanikamodi.medium.com/system-design...</td>\n",
       "    </tr>\n",
       "    <tr>\n",
       "      <th>3</th>\n",
       "      <td>upgrade level up resource deployment on aws</td>\n",
       "      <td>https://medium.com/slalom-technology/upgrade-l...</td>\n",
       "    </tr>\n",
       "    <tr>\n",
       "      <th>4</th>\n",
       "      <td>cloud computing a comparative analysis between...</td>\n",
       "      <td>https://medium.com/@BangBitTech/cloud-computin...</td>\n",
       "    </tr>\n",
       "  </tbody>\n",
       "</table>\n",
       "</div>"
      ],
      "text/plain": [
       "                                    article_headline  \\\n",
       "0  Build an Automatic Abstractive Text Summarizer...   \n",
       "1  creating a website to host your python web app...   \n",
       "2  system design choosing between aws lambda and ...   \n",
       "3        upgrade level up resource deployment on aws   \n",
       "4  cloud computing a comparative analysis between...   \n",
       "\n",
       "                                        article_link  \n",
       "0  https://medium.com/codex/build-an-automatic-ab...  \n",
       "1  https://medium.com/@marcosan93/creating-a-webs...  \n",
       "2  https://iamkanikamodi.medium.com/system-design...  \n",
       "3  https://medium.com/slalom-technology/upgrade-l...  \n",
       "4  https://medium.com/@BangBitTech/cloud-computin...  "
      ]
     },
     "execution_count": 25,
     "metadata": {},
     "output_type": "execute_result"
    }
   ],
   "source": [
    "df = pd.read_csv('/home/ashwinkumar/Downloads/Article_dataset - Sheet1.csv')\n",
    "df.head()"
   ]
  },
  {
   "cell_type": "code",
   "execution_count": 26,
   "metadata": {},
   "outputs": [
    {
     "data": {
      "text/plain": [
       "(550, 2)"
      ]
     },
     "execution_count": 26,
     "metadata": {},
     "output_type": "execute_result"
    }
   ],
   "source": [
    "df = df.drop_duplicates().dropna()\n",
    "df.shape"
   ]
  },
  {
   "cell_type": "code",
   "execution_count": 28,
   "metadata": {},
   "outputs": [
    {
     "name": "stdout",
     "output_type": "stream",
     "text": [
      "\n",
      " article heading : Build an Automatic Abstractive Text Summarizer in Ten minutes \n",
      "\n",
      "https://medium.com/codex/build-an-automatic-abstractive-text-summarizer-in-ten-minutes-f15f07e54bae\n",
      "\n",
      "--------------------------------------------------------------------------------\n",
      "\n",
      "    article heading : creating a website to host your python web application    \n",
      "\n",
      "https://medium.com/@marcosan93/creating-a-website-to-host-your-python-web-application-f06f694a87e8\n",
      "\n",
      "--------------------------------------------------------------------------------\n",
      "\n",
      "  article heading : system design choosing between aws lambda and aws fargate   \n",
      "\n",
      "https://iamkanikamodi.medium.com/system-design-choosing-between-aws-lambda-and-aws-fargate-d586f28da34\n",
      "\n",
      "--------------------------------------------------------------------------------\n",
      "\n",
      "         article heading : upgrade level up resource deployment on aws          \n",
      "\n",
      "https://medium.com/slalom-technology/upgrade-level-up-resource-deployment-on-aws-65c67ac3ab9d\n",
      "\n",
      "--------------------------------------------------------------------------------\n",
      "\n",
      " article heading : cloud computing a comparative analysis between amazon web services aws and microsoft azure \n",
      "\n",
      "https://medium.com/@BangBitTech/cloud-computing-a-comparative-analysis-between-amazon-web-services-aws-and-microsoft-azure-ac3fba05d8b7\n",
      "\n",
      "--------------------------------------------------------------------------------\n"
     ]
    }
   ],
   "source": [
    "for i in range(5):\n",
    "    print()\n",
    "    print(f\" article heading : {df.iloc[i, 0]} \".center(80, ' '))\n",
    "    print()\n",
    "    print(df.iloc[i, -1])\n",
    "    print()\n",
    "    print('-' * 80)"
   ]
  },
  {
   "cell_type": "code",
   "execution_count": 29,
   "metadata": {},
   "outputs": [
    {
     "data": {
      "text/plain": [
       "<jina.types.arrays.document.DocumentArray (length=550) at 139986358364144>"
      ]
     },
     "execution_count": 29,
     "metadata": {},
     "output_type": "execute_result"
    }
   ],
   "source": [
    "docs = DocumentArray()\n",
    "for i in range(df.shape[0]):\n",
    "    heading = df.iloc[i, 0]\n",
    "    link = df.iloc[i, -1]\n",
    "    doc = Document(text = heading)\n",
    "    doc.tags['description'] = link\n",
    "    docs.append(doc)\n",
    "    \n",
    "docs"
   ]
  },
  {
   "cell_type": "code",
   "execution_count": 31,
   "metadata": {},
   "outputs": [
    {
     "data": {
      "text/plain": [
       "'{\\n  \"id\": \"5e42818a-3ecc-11ec-b9ae-81e31a18cf28\",\\n  \"mime_type\": \"text/plain\",\\n  \"tags\": {\\n    \"description\": \"https://medium.com/codex/build-an-automatic-abstractive-text-summarizer-in-ten-minutes-f15f07e54bae\"\\n  },\\n  \"text\": \"Build an Automatic Abstractive Text Summarizer in Ten minutes\"\\n}'"
      ]
     },
     "execution_count": 31,
     "metadata": {},
     "output_type": "execute_result"
    }
   ],
   "source": [
    "docs[0].json()"
   ]
  },
  {
   "cell_type": "code",
   "execution_count": 32,
   "metadata": {},
   "outputs": [
    {
     "data": {
      "text/html": [
       "<img src=\"https://mermaid.ink/svg/JSV7aW5pdDogeyd0aGVtZSc6ICdiYXNlJywgJ3RoZW1lVmFyaWFibGVzJzogeyAncHJpbWFyeUNvbG9yJzogJyNGRkM2NjYnfX19JSUKICAgICAgICAgICAgICAgICAgICAgICAgICAgICAgICAgICAgICAgICAgICBjbGFzc0RpYWdyYW0KICAgIAogICAgICAgICAgICAgICAgICAgICAgICAgICAgICAgICAgICAgICAgICAgICAgICAgICAgY2xhc3MgYzU3fkRvY3VtZW50fnsKK2lkIDcyNjU0YjU0LTMKK3VyaSBwYXRoCn0=\"/>"
      ],
      "text/plain": [
       "<IPython.core.display.Image object>"
      ]
     },
     "metadata": {},
     "output_type": "display_data"
    }
   ],
   "source": [
    "Document(text =\"text\")\n",
    "Document(content =\"content\")\n",
    "Document(uri = \"path\" )"
   ]
  },
  {
   "cell_type": "code",
   "execution_count": 33,
   "metadata": {},
   "outputs": [],
   "source": [
    "model = \"sentence-transformers/paraphrase-distilroberta-base-v1\"\n",
    "\n",
    "flow = (\n",
    "    Flow()\n",
    "    .add(\n",
    "        name=\"error_text_encoder\",\n",
    "        uses=\"jinahub://TransformerTorchEncoder\",\n",
    "        uses_with={\"pretrained_model_name_or_path\": model},\n",
    "        install_requirements = True\n",
    "    )\n",
    "    .add(\n",
    "        name=\"error_text_indexer\",\n",
    "        uses='jinahub://SimpleIndexer',\n",
    "        install_requirements = True\n",
    "    )\n",
    ")"
   ]
  },
  {
   "cell_type": "code",
   "execution_count": 35,
   "metadata": {},
   "outputs": [
    {
     "data": {
      "text/html": [
       "<img src=\"https://mermaid.ink/svg/ICAgICAgICAgICAgJSV7aW5pdDp7ICAidGhlbWUiOiAiYmFzZSIsICAidGhlbWVWYXJpYWJsZXMiOiB7ICAgICAgInByaW1hcnlDb2xvciI6ICIjZmZmIiwgICAgICAicHJpbWFyeUJvcmRlckNvbG9yIjogIiNmZmYiLCAgICAgICJtYWluQmtnIjogIiMzMkM4Q0QiLCAgICAgICJjbHVzdGVyQmtnIjogIiNFRUVERTc4QyIsICAgICAgInNlY29uZGFyeUJvcmRlckNvbG9yIjogIm5vbmUiLCAgICAgICJ0ZXJ0aWFyeUJvcmRlckNvbG9yIjogIm5vbmUiLCAgICAgICJsaW5lQ29sb3IiOiAiI2E2ZDhkYSIgICAgICB9fX0lJSAgICAgICAgICAgIApmbG93Y2hhcnQgTFI7CnN1YmdyYXBoIGVycm9yX3RleHRfZW5jb2RlcjsKZXJyb3JfdGV4dF9lbmNvZGVyL3BlYS0wW2ppbmFodWI6Ly9UcmFuc2Zvcm1lclRvcmNoRW5jb2Rlcl06OjpQRUE7CmVuZDsKc3ViZ3JhcGggZXJyb3JfdGV4dF9pbmRleGVyOwplcnJvcl90ZXh0X2luZGV4ZXIvcGVhLTBbamluYWh1YjovL1NpbXBsZUluZGV4ZXJdOjo6UEVBOwplbmQ7CmdhdGV3YXlzdGFydFtnYXRld2F5XTo6OkdBVEVXQVkgLS0+IGVycm9yX3RleHRfZW5jb2Rlcjo6OlBPRDsKZXJyb3JfdGV4dF9lbmNvZGVyOjo6UE9EIC0tPiBlcnJvcl90ZXh0X2luZGV4ZXI6OjpQT0Q7CmVycm9yX3RleHRfaW5kZXhlcjo6OlBPRCAtLT4gZ2F0ZXdheWVuZFtnYXRld2F5XTo6OkdBVEVXQVk7CmNsYXNzRGVmIElOU1BFQ1Qgc3Ryb2tlOiNGMjlDOUYKY2xhc3NEZWYgSk9JTl9JTlNQRUNUIHN0cm9rZTojRjI5QzlGCmNsYXNzRGVmIEdBVEVXQVkgZmlsbDpub25lLGNvbG9yOiMwMDAsc3Ryb2tlOm5vbmUKY2xhc3NEZWYgSU5TUEVDVF9BVVhfUEFTUyBzdHJva2UtZGFzaGFycmF5OiAyIDIKY2xhc3NEZWYgSEVBRFRBSUwgZmlsbDojMzJDOENEMUQKCmNsYXNzRGVmIEVYVEVSTkFMIGZpbGw6I2ZmZixzdHJva2U6IzMyQzhDRA==\"/>"
      ],
      "text/plain": [
       "<IPython.core.display.Image object>"
      ]
     },
     "metadata": {},
     "output_type": "display_data"
    }
   ],
   "source": [
    "flow"
   ]
  },
  {
   "cell_type": "code",
   "execution_count": 17,
   "metadata": {},
   "outputs": [
    {
     "name": "stdout",
     "output_type": "stream",
     "text": [
      "Requirement already satisfied: torch in /home/ashwinkumar/.local/lib/python3.8/site-packages (1.10.0)\r\n",
      "Requirement already satisfied: typing-extensions in /home/ashwinkumar/.local/lib/python3.8/site-packages (from torch) (3.10.0.2)\r\n"
     ]
    }
   ],
   "source": [
    "!pip install torch"
   ]
  },
  {
   "cell_type": "code",
   "execution_count": 16,
   "metadata": {},
   "outputs": [
    {
     "name": "stdout",
     "output_type": "stream",
     "text": [
      "Collecting transformers\n",
      "  Using cached transformers-4.12.3-py3-none-any.whl (3.1 MB)\n",
      "Requirement already satisfied: numpy>=1.17 in /home/ashwinkumar/.local/lib/python3.8/site-packages (from transformers) (1.21.3)\n",
      "Requirement already satisfied: regex!=2019.12.17 in /home/ashwinkumar/.local/lib/python3.8/site-packages (from transformers) (2021.11.2)\n",
      "Requirement already satisfied: huggingface-hub<1.0,>=0.1.0 in /home/ashwinkumar/.local/lib/python3.8/site-packages (from transformers) (0.1.0)\n",
      "Requirement already satisfied: requests in /usr/lib/python3/dist-packages (from transformers) (2.22.0)\n",
      "Requirement already satisfied: pyyaml>=5.1 in /usr/lib/python3/dist-packages (from transformers) (5.3.1)\n",
      "Requirement already satisfied: filelock in /home/ashwinkumar/.local/lib/python3.8/site-packages (from transformers) (3.3.1)\n",
      "Requirement already satisfied: sacremoses in /home/ashwinkumar/.local/lib/python3.8/site-packages (from transformers) (0.0.46)\n",
      "Requirement already satisfied: packaging>=20.0 in /home/ashwinkumar/.local/lib/python3.8/site-packages (from transformers) (21.2)\n",
      "Requirement already satisfied: tokenizers<0.11,>=0.10.1 in /home/ashwinkumar/.local/lib/python3.8/site-packages (from transformers) (0.10.3)\n",
      "Requirement already satisfied: tqdm>=4.27 in /home/ashwinkumar/.local/lib/python3.8/site-packages (from transformers) (4.62.3)\n",
      "Requirement already satisfied: typing-extensions in /home/ashwinkumar/.local/lib/python3.8/site-packages (from huggingface-hub<1.0,>=0.1.0->transformers) (3.10.0.2)\n",
      "Requirement already satisfied: six in /usr/lib/python3/dist-packages (from sacremoses->transformers) (1.14.0)\n",
      "Requirement already satisfied: joblib in /home/ashwinkumar/.local/lib/python3.8/site-packages (from sacremoses->transformers) (1.1.0)\n",
      "Requirement already satisfied: click in /usr/lib/python3/dist-packages (from sacremoses->transformers) (7.0)\n",
      "Requirement already satisfied: pyparsing<3,>=2.0.2 in /home/ashwinkumar/.local/lib/python3.8/site-packages (from packaging>=20.0->transformers) (2.4.7)\n",
      "Installing collected packages: transformers\n",
      "Successfully installed transformers-4.12.3\n"
     ]
    }
   ],
   "source": [
    "!pip install transformers"
   ]
  },
  {
   "cell_type": "code",
   "execution_count": 36,
   "metadata": {},
   "outputs": [
    {
     "data": {
      "text/html": [
       "<pre style=\"white-space:pre;overflow-x:auto;line-height:normal;font-family:Menlo,'DejaVu Sans Mono',consolas,'Courier New',monospace\"></pre>\n"
      ],
      "text/plain": []
     },
     "metadata": {},
     "output_type": "display_data"
    },
    {
     "data": {
      "text/html": [
       "<pre style=\"white-space:pre;overflow-x:auto;line-height:normal;font-family:Menlo,'DejaVu Sans Mono',consolas,'Courier New',monospace\"></pre>\n"
      ],
      "text/plain": []
     },
     "metadata": {},
     "output_type": "display_data"
    },
    {
     "name": "stdout",
     "output_type": "stream",
     "text": [
      "\r",
      "                                                                                                    \r",
      "\u001b[32m⠋\u001b[0m 0/3 waiting \u001b[33merror_text_encoder error_text_indexer gateway\u001b[0m to be ready..."
     ]
    },
    {
     "name": "stderr",
     "output_type": "stream",
     "text": [
      "\u001b[1;33mDeprecationWarning: The loop argument is deprecated since Python 3.8, and scheduled for removal in Python 3.10.\u001b[0m \u001b[1;30m(raised from /home/ashwinkumar/.local/lib/python3.8/site-packages/grpc/aio/_server.py:54)\u001b[0m\n"
     ]
    },
    {
     "name": "stdout",
     "output_type": "stream",
     "text": [
      "           Flow@125626[I]:\u001b[32m🎉 Flow is ready to use!\u001b[0m                                         \n",
      "\t🔗 Protocol: \t\t\u001b[1mGRPC\u001b[0m\n",
      "\t🏠 Local access:\t\u001b[4m\u001b[36m0.0.0.0:47109\u001b[0m\n",
      "\t🔒 Private network:\t\u001b[4m\u001b[36m192.168.10.218:47109\u001b[0m\u001b[0m\n"
     ]
    },
    {
     "name": "stderr",
     "output_type": "stream",
     "text": [
      "\u001b[1;33mDeprecationWarning: using `traversal_paths` as an argument inside `.batch()` is deprecated. please use `.traverse_flat(traversal_paths=...).batch()` instead\u001b[0m \u001b[1;30m(raised from /home/ashwinkumar/.local/lib/python3.8/site-packages/jina/types/arrays/traversable.py:167)\u001b[0m\n",
      "\u001b[1;33mDeprecationWarning: using `require_attr` as an argument inside `.batch()` is deprecated. please use `.traverse_flat(filter_fn=...).batch()` instead\u001b[0m \u001b[1;30m(raised from /home/ashwinkumar/.local/lib/python3.8/site-packages/jina/types/arrays/traversable.py:191)\u001b[0m\n",
      "\u001b[1;33mDeprecationWarning: The loop argument is deprecated since Python 3.8, and scheduled for removal in Python 3.10.\u001b[0m \u001b[1;30m(raised from /home/ashwinkumar/.local/lib/python3.8/site-packages/grpc/aio/_call.py:374)\u001b[0m\n",
      "\u001b[1;33mDeprecationWarning: using `traversal_paths` as an argument inside `.batch()` is deprecated. please use `.traverse_flat(traversal_paths=...).batch()` instead\u001b[0m \u001b[1;30m(raised from /home/ashwinkumar/.local/lib/python3.8/site-packages/jina/types/arrays/traversable.py:167)\u001b[0m\n",
      "\u001b[1;33mDeprecationWarning: using `require_attr` as an argument inside `.batch()` is deprecated. please use `.traverse_flat(filter_fn=...).batch()` instead\u001b[0m \u001b[1;30m(raised from /home/ashwinkumar/.local/lib/python3.8/site-packages/jina/types/arrays/traversable.py:191)\u001b[0m\n",
      "\u001b[1;33mDeprecationWarning: using `traversal_paths` as an argument inside `.batch()` is deprecated. please use `.traverse_flat(traversal_paths=...).batch()` instead\u001b[0m \u001b[1;30m(raised from /home/ashwinkumar/.local/lib/python3.8/site-packages/jina/types/arrays/traversable.py:167)\u001b[0m\n",
      "\u001b[1;33mDeprecationWarning: using `require_attr` as an argument inside `.batch()` is deprecated. please use `.traverse_flat(filter_fn=...).batch()` instead\u001b[0m \u001b[1;30m(raised from /home/ashwinkumar/.local/lib/python3.8/site-packages/jina/types/arrays/traversable.py:191)\u001b[0m\n",
      "\u001b[1;33mDeprecationWarning: using `traversal_paths` as an argument inside `.batch()` is deprecated. please use `.traverse_flat(traversal_paths=...).batch()` instead\u001b[0m \u001b[1;30m(raised from /home/ashwinkumar/.local/lib/python3.8/site-packages/jina/types/arrays/traversable.py:167)\u001b[0m\n",
      "\u001b[1;33mDeprecationWarning: using `require_attr` as an argument inside `.batch()` is deprecated. please use `.traverse_flat(filter_fn=...).batch()` instead\u001b[0m \u001b[1;30m(raised from /home/ashwinkumar/.local/lib/python3.8/site-packages/jina/types/arrays/traversable.py:191)\u001b[0m\n",
      "\u001b[1;33mDeprecationWarning: using `traversal_paths` as an argument inside `.batch()` is deprecated. please use `.traverse_flat(traversal_paths=...).batch()` instead\u001b[0m \u001b[1;30m(raised from /home/ashwinkumar/.local/lib/python3.8/site-packages/jina/types/arrays/traversable.py:167)\u001b[0m\n",
      "\u001b[1;33mDeprecationWarning: using `require_attr` as an argument inside `.batch()` is deprecated. please use `.traverse_flat(filter_fn=...).batch()` instead\u001b[0m \u001b[1;30m(raised from /home/ashwinkumar/.local/lib/python3.8/site-packages/jina/types/arrays/traversable.py:191)\u001b[0m\n",
      "\u001b[1;33mDeprecationWarning: using `traversal_paths` as an argument inside `.batch()` is deprecated. please use `.traverse_flat(traversal_paths=...).batch()` instead\u001b[0m \u001b[1;30m(raised from /home/ashwinkumar/.local/lib/python3.8/site-packages/jina/types/arrays/traversable.py:167)\u001b[0m\n",
      "\u001b[1;33mDeprecationWarning: using `require_attr` as an argument inside `.batch()` is deprecated. please use `.traverse_flat(filter_fn=...).batch()` instead\u001b[0m \u001b[1;30m(raised from /home/ashwinkumar/.local/lib/python3.8/site-packages/jina/types/arrays/traversable.py:191)\u001b[0m\n",
      "\u001b[1;33mDeprecationWarning: The loop argument is deprecated since Python 3.8, and scheduled for removal in Python 3.10.\u001b[0m \u001b[1;30m(raised from /usr/lib/python3.8/asyncio/events.py:81)\u001b[0m\n",
      "\u001b[1;33mDeprecationWarning: The loop argument is deprecated since Python 3.8, and scheduled for removal in Python 3.10.\u001b[0m \u001b[1;30m(raised from /usr/lib/python3.8/asyncio/events.py:81)\u001b[0m\n"
     ]
    }
   ],
   "source": [
    "!rm -rf workspace\n",
    "\n",
    "with flow:\n",
    "    flow.index(\n",
    "      inputs=docs,\n",
    "        docs = docs,\n",
    "        parameters = {'name' : 'somethign', 'xyz' : 'asdf'}\n",
    "  )"
   ]
  },
  {
   "cell_type": "code",
   "execution_count": 44,
   "metadata": {},
   "outputs": [
    {
     "name": "stdout",
     "output_type": "stream",
     "text": [
      "Query product : lamda\n",
      "\u001b[32m⠋\u001b[0m 0/3 waiting \u001b[33merror_text_encoder error_text_indexer gateway\u001b[0m to be ready...        "
     ]
    },
    {
     "name": "stderr",
     "output_type": "stream",
     "text": [
      "\u001b[1;33mDeprecationWarning: The loop argument is deprecated since Python 3.8, and scheduled for removal in Python 3.10.\u001b[0m \u001b[1;30m(raised from /home/ashwinkumar/.local/lib/python3.8/site-packages/grpc/aio/_server.py:54)\u001b[0m\n"
     ]
    },
    {
     "name": "stdout",
     "output_type": "stream",
     "text": [
      "           Flow@125626[I]:\u001b[32m🎉 Flow is ready to use!\u001b[0m                                         \n",
      "\t🔗 Protocol: \t\t\u001b[1mGRPC\u001b[0m\n",
      "\t🏠 Local access:\t\u001b[4m\u001b[36m0.0.0.0:44123\u001b[0m\n",
      "\t🔒 Private network:\t\u001b[4m\u001b[36m192.168.10.218:44123\u001b[0m\u001b[0m\n"
     ]
    },
    {
     "name": "stderr",
     "output_type": "stream",
     "text": [
      "\u001b[1;33mDeprecationWarning: using `traversal_paths` as an argument inside `.batch()` is deprecated. please use `.traverse_flat(traversal_paths=...).batch()` instead\u001b[0m \u001b[1;30m(raised from /home/ashwinkumar/.local/lib/python3.8/site-packages/jina/types/arrays/traversable.py:167)\u001b[0m\n",
      "\u001b[1;33mDeprecationWarning: using `require_attr` as an argument inside `.batch()` is deprecated. please use `.traverse_flat(filter_fn=...).batch()` instead\u001b[0m \u001b[1;30m(raised from /home/ashwinkumar/.local/lib/python3.8/site-packages/jina/types/arrays/traversable.py:191)\u001b[0m\n",
      "\u001b[1;33mDeprecationWarning: The loop argument is deprecated since Python 3.8, and scheduled for removal in Python 3.10.\u001b[0m \u001b[1;30m(raised from /home/ashwinkumar/.local/lib/python3.8/site-packages/grpc/aio/_call.py:374)\u001b[0m\n",
      "\u001b[1;33mDeprecationWarning: The loop argument is deprecated since Python 3.8, and scheduled for removal in Python 3.10.\u001b[0m \u001b[1;30m(raised from /usr/lib/python3.8/asyncio/events.py:81)\u001b[0m\n",
      "\u001b[1;33mDeprecationWarning: The loop argument is deprecated since Python 3.8, and scheduled for removal in Python 3.10.\u001b[0m \u001b[1;30m(raised from /usr/lib/python3.8/asyncio/events.py:81)\u001b[0m\n"
     ]
    }
   ],
   "source": [
    "query = Document(text = input('Query product : '))\n",
    "with flow:\n",
    "    response = flow.search(inputs = query, return_results = True)"
   ]
  },
  {
   "cell_type": "code",
   "execution_count": 45,
   "metadata": {},
   "outputs": [
    {
     "data": {
      "text/plain": [
       "<jina.types.arrays.match.MatchArray (length=20) at 139986361333744>"
      ]
     },
     "execution_count": 45,
     "metadata": {},
     "output_type": "execute_result"
    }
   ],
   "source": [
    "matches = response[0].docs[0].matches\n",
    "matches"
   ]
  },
  {
   "cell_type": "code",
   "execution_count": 46,
   "metadata": {},
   "outputs": [
    {
     "name": "stdout",
     "output_type": "stream",
     "text": [
      "\n",
      "                        article heading : azure purview                         \n",
      "\n",
      "https://medium.com/microsoftazure/azure-purview-83817fc50922\n",
      "\n",
      "--------------------------------------------------------------------------------\n",
      "\n",
      "                       article heading : azure vocabulary                       \n",
      "\n",
      "https://medium.com/reaching-for-the-cloud/azure-vocabulary-66e66ccd46b6\n",
      "\n",
      "--------------------------------------------------------------------------------\n",
      "\n",
      "                article heading : automating etl with aws lambda                \n",
      "\n",
      "https://medium.com/@ashwin_muthiah/automating-etl-with-aws-lambda-97b9e3404929\n",
      "\n",
      "--------------------------------------------------------------------------------\n",
      "\n",
      "                      article heading : databricks on aws                       \n",
      "\n",
      "https://medium.com/@prateek.dubey/databricks-on-aws-eef043ae937f\n",
      "\n",
      "--------------------------------------------------------------------------------\n",
      "\n",
      "        article heading : getting started with automl and aws autogluon         \n",
      "\n",
      "https://medium.com/p/getting-started-with-automl-and-aws-autogluon-6bc7ed7aef95\n",
      "\n",
      "--------------------------------------------------------------------------------\n",
      "\n",
      "                     article heading : azure source volume                      \n",
      "\n",
      "https://medium.com/azure-source/azure-source-volume-69-5d243e0fb8c5?source=rss----2f2531872505--azure\n",
      "\n",
      "--------------------------------------------------------------------------------\n",
      "\n",
      "                     article heading : azure source volume                      \n",
      "\n",
      "https://medium.com/@robcaron/azure-source-volume-71-85152558e9c?source=rss-------1\n",
      "\n",
      "--------------------------------------------------------------------------------\n",
      "\n",
      "                     article heading : azure source volume                      \n",
      "\n",
      "https://medium.com/azure-source/azure-source-volume-72-ba802b276a28?source=rss-------1\n",
      "\n",
      "--------------------------------------------------------------------------------\n",
      "\n",
      "                     article heading : azure source volume                      \n",
      "\n",
      "https://medium.com/azure-source/azure-source-volume-74-c68fa89ded60?source=post_page---------------------------\n",
      "\n",
      "--------------------------------------------------------------------------------\n",
      "\n",
      "             article heading : building custom layers on aws lambda             \n",
      "\n",
      "https://medium.com/@aminuisrael2/building-custom-layers-on-aws-lambda-35d17bd9abbb\n",
      "\n",
      "--------------------------------------------------------------------------------\n",
      "\n",
      "               article heading : azure event grid the whole story               \n",
      "\n",
      "https://medium.com/microsoftazure/azure-event-grid-the-whole-story-4b7b4ec4ad23\n",
      "\n",
      "--------------------------------------------------------------------------------\n",
      "\n",
      "             article heading : building your data lake on adls gen2             \n",
      "\n",
      "https://medium.com/microsoftazure/building-your-data-lake-on-adls-gen2-3f196fc6b430\n",
      "\n",
      "--------------------------------------------------------------------------------\n",
      "\n",
      "      article heading : event driven architecture with sqs and aws lambda       \n",
      "\n",
      "https://medium.com/the-cloud-architect/event-driven-architecture-with-sqs-and-aws-lambda-cf2ebd529ae3?source=rss----b624e7cc858e---4\n",
      "\n",
      "--------------------------------------------------------------------------------\n",
      "\n",
      "                 article heading : deploying ml models on azure                 \n",
      "\n",
      "https://medium.com/@bensjyy/deploying-ml-models-on-azure-a948c106f7b5\n",
      "\n",
      "--------------------------------------------------------------------------------\n",
      "\n",
      "                    article heading : azure devops or github                    \n",
      "\n",
      "https://medium.com/devops-cloud-it-career/azure-devops-or-github-c83fe1eced4d\n",
      "\n",
      "--------------------------------------------------------------------------------\n",
      "\n",
      " article heading : connecting a mysql workbench to amazon web services relational database service \n",
      "\n",
      "https://medium.com/@ryanzhou7/connecting-a-mysql-workbench-to-amazon-web-services-relational-database-service-36ae1f23d424\n",
      "\n",
      "--------------------------------------------------------------------------------\n",
      "\n",
      "                 article heading : deploying a honeypot on aws                  \n",
      "\n",
      "https://medium.com/@sudojune/deploying-a-honeypot-on-aws-5bb414753f32\n",
      "\n",
      "--------------------------------------------------------------------------------\n",
      "\n",
      "                   article heading : hosting wordpress on aws                   \n",
      "\n",
      "https://medium.com/@danikfedirko/hosting-wordpress-on-aws-dc53ffe5c305\n",
      "\n",
      "--------------------------------------------------------------------------------\n",
      "\n",
      "              article heading : submitting articles to towards aws              \n",
      "\n",
      "https://medium.com/towards-aws/submitting-articles-to-towards-aws-81a0d2ee8ad2\n",
      "\n",
      "--------------------------------------------------------------------------------\n",
      "\n",
      "   article heading : data warehouse automation using dbt on azure sql server    \n",
      "\n",
      "https://patrickpichler.medium.com/data-warehouse-automation-using-dbt-on-azure-sql-server-f3fb14c01a59?source=rss-73a93ddc5720------2\n",
      "\n",
      "--------------------------------------------------------------------------------\n"
     ]
    }
   ],
   "source": [
    "for m in matches:\n",
    "    print()\n",
    "    print(f\" article heading : {m.text} \".center(80, ' '))\n",
    "    print()\n",
    "    print(m.tags['description'])\n",
    "    print()\n",
    "    print('-' * 80)"
   ]
  },
  {
   "cell_type": "code",
   "execution_count": null,
   "metadata": {},
   "outputs": [],
   "source": []
  }
 ],
 "metadata": {
  "kernelspec": {
   "display_name": "Python 3",
   "language": "python",
   "name": "python3"
  },
  "language_info": {
   "codemirror_mode": {
    "name": "ipython",
    "version": 3
   },
   "file_extension": ".py",
   "mimetype": "text/x-python",
   "name": "python",
   "nbconvert_exporter": "python",
   "pygments_lexer": "ipython3",
   "version": "3.8.10"
  }
 },
 "nbformat": 4,
 "nbformat_minor": 4
}
